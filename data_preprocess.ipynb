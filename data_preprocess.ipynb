{
  "nbformat": 4,
  "nbformat_minor": 0,
  "metadata": {
    "colab": {
      "name": "data_preprocess.ipynb",
      "provenance": []
    },
    "kernelspec": {
      "display_name": "Python 3",
      "name": "python3"
    },
    "language_info": {
      "name": "python"
    }
  },
  "cells": [
    {
      "cell_type": "code",
      "metadata": {
        "id": "MPc-JEUlgqPz"
      },
      "source": [
        "import cv2\n",
        "import dlib\n",
        "from google.colab.patches import cv2_imshow\n",
        "\n",
        "detector = dlib.get_frontal_face_detector()\n",
        "new_path ='/content/drive/MyDrive/helmet_detect_repo/try1/'\n",
        "\n",
        "def MyRec(rgb,x,y,w,h,v=20,color=(200,0,0),thikness =2):\n",
        "    \"\"\"To draw stylish rectangle around the objects\"\"\"\n",
        "    cv2.line(rgb, (x,y),(x+v,y), color, thikness)\n",
        "    cv2.line(rgb, (x,y),(x,y+v), color, thikness)\n",
        "\n",
        "    cv2.line(rgb, (x+w,y),(x+w-v,y), color, thikness)\n",
        "    cv2.line(rgb, (x+w,y),(x+w,y+v), color, thikness)\n",
        "\n",
        "    cv2.line(rgb, (x,y+h),(x,y+h-v), color, thikness)\n",
        "    cv2.line(rgb, (x,y+h),(x+v,y+h), color, thikness)\n",
        "\n",
        "    cv2.line(rgb, (x+w,y+h),(x+w,y+h-v), color, thikness)\n",
        "    cv2.line(rgb, (x+w,y+h),(x+w-v,y+h), color, thikness)\n",
        "\n",
        "def save(img,name, bbox, width=180,height=227):\n",
        "    x, y, w, h = bbox\n",
        "    imgCrop = img[y:h, x: w]\n",
        "    try:\n",
        "      imgCrop = cv2.resize(imgCrop, (width, height))#we need this line to reshape the images\n",
        "    except: \n",
        "      print(name)\n",
        "    #cv2_imshow(imgCrop)\n",
        "    cv2.imwrite(name+\".png\", imgCrop)\n",
        "\n",
        "def faces(path,img):\n",
        "\n",
        "    frame =cv2.imread(path+img)\n",
        "    #frame =cv2.imread(img)\n",
        "    gray =cv2.cvtColor(frame,cv2.COLOR_BGR2GRAY)\n",
        "    faces = detector(gray)\n",
        "    fit =50\n",
        "    # detect the face\n",
        "    for counter,face in enumerate(faces):\n",
        "        #print(counter)\n",
        "        x1, y1 = face.left(), face.top()\n",
        "        x2, y2 = face.right(), face.bottom()\n",
        "        cv2.rectangle(frame,(x1,y1),(x2,y2),(220,255,220),1)\n",
        "        MyRec(frame, x1, y1, x2 - x1, y2 - y1, 10, (0,250,0), 3)\n",
        "        save(gray,new_path+img+str(x1),(x1-fit,y1-fit,x2+fit,y2-fit))\n",
        "        #print(new_path)\n",
        "        print(new_path+img+str(counter))\n",
        "        #save(gray,new_path+str(counter),(x1,y1,x2,y2))\n",
        "    #frame = cv2.resize(frame,(800,800))\n",
        "    #cv2_imshow(frame)\n",
        "    #cv2.waitKey(0)\n",
        "    #print(\"done saving\")\n",
        "    return frame\n",
        "\n",
        "\n",
        "#faces('/content/drive/MyDrive/helmet_detect_repo/base_image/hard_hat_workers334.png')\n"
      ],
      "execution_count": null,
      "outputs": []
    },
    {
      "cell_type": "code",
      "metadata": {
        "colab": {
          "base_uri": "https://localhost:8080/"
        },
        "id": "tv58Sq5ewaI6",
        "outputId": "8fbc628e-a0f4-4ef1-b7d0-58b341c1d6da"
      },
      "source": [
        "path = '/content/drive/MyDrive/helmet_detect_repo/base_image/'\n",
        "\n",
        "#a = os.listdir(path)\n",
        "#print(a)\n",
        "\n",
        "for img in os.listdir(path):\n",
        "  faces(path,img)\n",
        "#  print(path+img)"
      ],
      "execution_count": null,
      "outputs": [
        {
          "output_type": "stream",
          "text": [
            "/content/drive/MyDrive/helmet_detect_repo/try1/hard_hat_workers2406.png0\n",
            "/content/drive/MyDrive/helmet_detect_repo/try1/hard_hat_workers2393.png0\n",
            "/content/drive/MyDrive/helmet_detect_repo/try1/hard_hat_workers2429.png0\n",
            "/content/drive/MyDrive/helmet_detect_repo/try1/hard_hat_workers2479.png0\n",
            "/content/drive/MyDrive/helmet_detect_repo/try1/hard_hat_workers2545.png0\n",
            "/content/drive/MyDrive/helmet_detect_repo/try1/hard_hat_workers2829.png0\n",
            "/content/drive/MyDrive/helmet_detect_repo/try1/hard_hat_workers2835.png0\n",
            "/content/drive/MyDrive/helmet_detect_repo/try1/hard_hat_workers2902.png0\n",
            "/content/drive/MyDrive/helmet_detect_repo/try1/hard_hat_workers3068.png0\n",
            "/content/drive/MyDrive/helmet_detect_repo/try1/hard_hat_workers3001.png0\n",
            "/content/drive/MyDrive/helmet_detect_repo/try1/hard_hat_workers3089.png0\n",
            "/content/drive/MyDrive/helmet_detect_repo/try1/hard_hat_workers3147.png0\n",
            "/content/drive/MyDrive/helmet_detect_repo/try1/hard_hat_workers3204.png0\n",
            "/content/drive/MyDrive/helmet_detect_repo/try1/hard_hat_workers320.png0\n",
            "/content/drive/MyDrive/helmet_detect_repo/try1/hard_hat_workers3153.png0\n",
            "/content/drive/MyDrive/helmet_detect_repo/try1/hard_hat_workers3153.png1\n",
            "/content/drive/MyDrive/helmet_detect_repo/try1/hard_hat_workers3249.png0\n",
            "/content/drive/MyDrive/helmet_detect_repo/try1/hard_hat_workers3264.png0\n",
            "/content/drive/MyDrive/helmet_detect_repo/try1/hard_hat_workers3245.png0\n",
            "/content/drive/MyDrive/helmet_detect_repo/try1/hard_hat_workers334.png0\n",
            "/content/drive/MyDrive/helmet_detect_repo/try1/hard_hat_workers3346.png0\n",
            "/content/drive/MyDrive/helmet_detect_repo/try1/hard_hat_workers3358.png0\n",
            "/content/drive/MyDrive/helmet_detect_repo/try1/hard_hat_workers3634.png0\n",
            "/content/drive/MyDrive/helmet_detect_repo/try1/hard_hat_workers3629.png0\n",
            "/content/drive/MyDrive/helmet_detect_repo/try1/hard_hat_workers3761.png0\n",
            "/content/drive/MyDrive/helmet_detect_repo/try1/hard_hat_workers3794.png0\n",
            "/content/drive/MyDrive/helmet_detect_repo/try1/hard_hat_workers3948.png0\n",
            "/content/drive/MyDrive/helmet_detect_repo/try1/hard_hat_workers3982.png0\n",
            "/content/drive/MyDrive/helmet_detect_repo/try1/hard_hat_workers4079.png0\n",
            "/content/drive/MyDrive/helmet_detect_repo/try1/hard_hat_workers4224.png0\n",
            "/content/drive/MyDrive/helmet_detect_repo/try1/hard_hat_workers4230.png0\n",
            "/content/drive/MyDrive/helmet_detect_repo/try1/hard_hat_workers4170.png0\n",
            "/content/drive/MyDrive/helmet_detect_repo/try1/hard_hat_workers4307.png0\n",
            "/content/drive/MyDrive/helmet_detect_repo/try1/hard_hat_workers4274.png0\n",
            "/content/drive/MyDrive/helmet_detect_repo/try1/hard_hat_workers4382.png0\n",
            "/content/drive/MyDrive/helmet_detect_repo/try1/hard_hat_workers4595.png0\n",
            "/content/drive/MyDrive/helmet_detect_repo/try1/hard_hat_workers4569.png0\n",
            "/content/drive/MyDrive/helmet_detect_repo/try1/hard_hat_workers4694.png0\n",
            "/content/drive/MyDrive/helmet_detect_repo/try1/hard_hat_workers4889.png0\n"
          ],
          "name": "stdout"
        }
      ]
    },
    {
      "cell_type": "code",
      "metadata": {
        "id": "P8kTg8YCW3Tf"
      },
      "source": [
        "path = '/content/drive/MyDrive/helmet_detect_repo/images/'\n",
        "\n",
        "#a = os.listdir(path)\n",
        "#print(a)\n",
        "\n",
        "for img in os.listdir(path):\n",
        "  print(img)\n",
        "  faces(path,img)\n",
        "#  print(path+img)"
      ],
      "execution_count": null,
      "outputs": []
    },
    {
      "cell_type": "code",
      "metadata": {
        "id": "c_gBBr2wSqmS"
      },
      "source": [
        ""
      ],
      "execution_count": null,
      "outputs": []
    },
    {
      "cell_type": "code",
      "metadata": {
        "id": "kb0NX2jpPwhI"
      },
      "source": [
        "def image_aug(path,img):\n",
        "  img = load_img(path+img)  # this is a PIL image\n",
        "  x = img_to_array(img)  # this is a Numpy array with shape (3, 150, 150)\n",
        "  x = x.reshape((1,) + x.shape)  # this is a Numpy array with shape (1, 3, 150, 150)\n",
        "\n",
        "  # the .flow() command below generates batches of randomly transformed images\n",
        "  # and saves the results to the `preview/` directory\n",
        "  i = 0\n",
        "  for batch in datagen.flow(x, batch_size=1,\n",
        "                            save_to_dir='/content/drive/MyDrive/helmet_detect_repo/woh/', save_prefix=img, save_format='png'):\n",
        "    i += 1\n",
        "    if i > 20:\n",
        "      break "
      ],
      "execution_count": null,
      "outputs": []
    },
    {
      "cell_type": "code",
      "metadata": {
        "id": "rlzn5AG_Sm8K"
      },
      "source": [
        "path = '/content/drive/MyDrive/helmet_detect_repo/try1/'\n",
        "\n",
        "#a = os.listdir(path)\n",
        "#print(a)\n",
        "\n",
        "for img in os.listdir(path):\n",
        "  image_aug(path,img)"
      ],
      "execution_count": null,
      "outputs": []
    },
    {
      "cell_type": "markdown",
      "metadata": {
        "id": "Jozr6jFiPxFI"
      },
      "source": [
        "#try"
      ]
    },
    {
      "cell_type": "code",
      "metadata": {
        "id": "D1QsdCjrI51i"
      },
      "source": [
        "os.listdir(path)"
      ],
      "execution_count": null,
      "outputs": []
    },
    {
      "cell_type": "code",
      "metadata": {
        "colab": {
          "base_uri": "https://localhost:8080/"
        },
        "id": "n8TAvmWTJCfl",
        "outputId": "654396b5-e98a-4e16-f91b-89dee16f801b"
      },
      "source": [
        "print(a)"
      ],
      "execution_count": null,
      "outputs": [
        {
          "output_type": "stream",
          "text": [
            "['maksssksksss9.png', 'maksssksksss5.png', 'maksssksksss7.png', 'maksssksksss10.png', 'maksssksksss8.png', 'maksssksksss3.png', 'maksssksksss2.png', 'maksssksksss6.png', 'maksssksksss4.png', 'maksssksksss1.png', 'maksssksksss0.png', 'maksssksksss252.png', 'maksssksksss64.png', 'maksssksksss63.png', 'maksssksksss59.png', 'maksssksksss58.png', 'maksssksksss61.png', 'maksssksksss56.png', 'maksssksksss62.png', 'maksssksksss57.png', 'maksssksksss60.png', 'maksssksksss55.png', 'maksssksksss53.png', 'maksssksksss51.png', 'maksssksksss54.png', 'maksssksksss48.png', 'maksssksksss52.png', 'maksssksksss49.png', 'maksssksksss50.png', 'maksssksksss45.png', 'maksssksksss47.png', 'maksssksksss46.png', 'maksssksksss42.png', 'maksssksksss43.png', 'maksssksksss40.png', 'maksssksksss44.png', 'maksssksksss41.png', 'maksssksksss38.png', 'maksssksksss39.png', 'maksssksksss36.png', 'maksssksksss31.png', 'maksssksksss37.png', 'maksssksksss34.png', 'maksssksksss35.png', 'maksssksksss33.png', 'maksssksksss28.png', 'maksssksksss30.png', 'maksssksksss29.png', 'maksssksksss26.png', 'maksssksksss32.png', 'maksssksksss25.png', 'maksssksksss27.png', 'maksssksksss23.png', 'maksssksksss24.png', 'maksssksksss22.png', 'maksssksksss21.png', 'maksssksksss12.png', 'maksssksksss20.png', 'maksssksksss16.png', 'maksssksksss19.png', 'maksssksksss18.png', 'maksssksksss15.png', 'maksssksksss17.png', 'maksssksksss11.png', 'maksssksksss13.png', 'maksssksksss14.png', 'maksssksksss111.png', 'maksssksksss105.png', 'maksssksksss108.png', 'maksssksksss107.png', 'maksssksksss106.png', 'maksssksksss103.png', 'maksssksksss102.png', 'maksssksksss99.png', 'maksssksksss101.png', 'maksssksksss89.png', 'maksssksksss97.png', 'maksssksksss100.png', 'maksssksksss98.png', 'maksssksksss93.png', 'maksssksksss96.png', 'maksssksksss94.png', 'maksssksksss91.png', 'maksssksksss95.png', 'maksssksksss92.png', 'maksssksksss90.png', 'maksssksksss86.png', 'maksssksksss79.png', 'maksssksksss83.png', 'maksssksksss85.png', 'maksssksksss82.png', 'maksssksksss88.png', 'maksssksksss87.png', 'maksssksksss84.png', 'maksssksksss81.png', 'maksssksksss80.png', 'maksssksksss78.png', 'maksssksksss75.png', 'maksssksksss68.png', 'maksssksksss72.png', 'maksssksksss76.png', 'maksssksksss77.png', 'maksssksksss69.png', 'maksssksksss74.png', 'maksssksksss73.png', 'maksssksksss67.png', 'maksssksksss71.png', 'maksssksksss70.png', 'maksssksksss66.png', 'maksssksksss65.png', 'maksssksksss154.png', 'maksssksksss150.png', 'maksssksksss152.png', 'maksssksksss149.png', 'maksssksksss153.png', 'maksssksksss151.png', 'maksssksksss155.png', 'maksssksksss148.png', 'maksssksksss146.png', 'maksssksksss147.png', 'maksssksksss145.png', 'maksssksksss140.png', 'maksssksksss137.png', 'maksssksksss141.png', 'maksssksksss138.png', 'maksssksksss139.png', 'maksssksksss144.png', 'maksssksksss143.png', 'maksssksksss135.png', 'maksssksksss142.png', 'maksssksksss136.png', 'maksssksksss134.png', 'maksssksksss124.png', 'maksssksksss130.png', 'maksssksksss131.png', 'maksssksksss133.png', 'maksssksksss132.png', 'maksssksksss127.png', 'maksssksksss129.png', 'maksssksksss123.png', 'maksssksksss122.png', 'maksssksksss128.png', 'maksssksksss126.png', 'maksssksksss120.png', 'maksssksksss125.png', 'maksssksksss121.png', 'maksssksksss115.png', 'maksssksksss119.png', 'maksssksksss114.png', 'maksssksksss118.png', 'maksssksksss110.png', 'maksssksksss116.png', 'maksssksksss113.png', 'maksssksksss117.png', 'maksssksksss112.png', 'maksssksksss104.png', 'maksssksksss109.png', 'maksssksksss188.png', 'maksssksksss185.png', 'maksssksksss187.png', 'maksssksksss186.png', 'maksssksksss183.png', 'maksssksksss184.png', 'maksssksksss177.png', 'maksssksksss182.png', 'maksssksksss175.png', 'maksssksksss181.png', 'maksssksksss179.png', 'maksssksksss178.png', 'maksssksksss174.png', 'maksssksksss176.png', 'maksssksksss180.png', 'maksssksksss173.png', 'maksssksksss171.png', 'maksssksksss172.png', 'maksssksksss169.png', 'maksssksksss168.png', 'maksssksksss170.png', 'maksssksksss165.png', 'maksssksksss164.png', 'maksssksksss166.png', 'maksssksksss163.png', 'maksssksksss167.png', 'maksssksksss160.png', 'maksssksksss162.png', 'maksssksksss159.png', 'maksssksksss158.png', 'maksssksksss161.png', 'maksssksksss157.png', 'maksssksksss156.png', 'maksssksksss214.png', 'maksssksksss215.png', 'maksssksksss218.png', 'maksssksksss216.png', 'maksssksksss213.png', 'maksssksksss206.png', 'maksssksksss212.png', 'maksssksksss209.png', 'maksssksksss211.png', 'maksssksksss207.png', 'maksssksksss205.png', 'maksssksksss210.png', 'maksssksksss208.png', 'maksssksksss204.png', 'maksssksksss203.png', 'maksssksksss202.png', 'maksssksksss200.png', 'maksssksksss198.png', 'maksssksksss199.png', 'maksssksksss201.png', 'maksssksksss195.png', 'maksssksksss193.png', 'maksssksksss192.png', 'maksssksksss197.png', 'maksssksksss194.png', 'maksssksksss191.png', 'maksssksksss196.png', 'maksssksksss190.png', 'maksssksksss189.png', 'maksssksksss247.png', 'maksssksksss244.png', 'maksssksksss245.png', 'maksssksksss248.png', 'maksssksksss242.png', 'maksssksksss243.png', 'maksssksksss233.png', 'maksssksksss240.png', 'maksssksksss241.png', 'maksssksksss238.png', 'maksssksksss237.png', 'maksssksksss239.png', 'maksssksksss232.png', 'maksssksksss235.png', 'maksssksksss231.png', 'maksssksksss227.png', 'maksssksksss234.png', 'maksssksksss229.png', 'maksssksksss230.png', 'maksssksksss236.png', 'maksssksksss228.png', 'maksssksksss222.png', 'maksssksksss225.png', 'maksssksksss217.png', 'maksssksksss221.png', 'maksssksksss224.png', 'maksssksksss226.png', 'maksssksksss220.png', 'maksssksksss219.png', 'maksssksksss223.png', 'maksssksksss251.png', 'maksssksksss246.png', 'maksssksksss250.png', 'maksssksksss249.png']\n"
          ],
          "name": "stdout"
        }
      ]
    },
    {
      "cell_type": "code",
      "metadata": {
        "id": "rYlLSkxR8Z3V"
      },
      "source": [
        "from keras.preprocessing.image import ImageDataGenerator, array_to_img, img_to_array, load_img\n",
        "\n",
        "datagen = ImageDataGenerator(\n",
        "        rotation_range=40,\n",
        "        width_shift_range=0.2,\n",
        "        height_shift_range=0.2,\n",
        "        shear_range=0.2,\n",
        "        zoom_range=0.2,\n",
        "        horizontal_flip=True,\n",
        "        fill_mode='nearest')"
      ],
      "execution_count": null,
      "outputs": []
    },
    {
      "cell_type": "code",
      "metadata": {
        "id": "pg-M7p_h8c70"
      },
      "source": [
        "def image_aug(path,img):\n",
        "  img = load_img(path+img)  # this is a PIL image\n",
        "  x = img_to_array(img)  # this is a Numpy array with shape (3, 150, 150)\n",
        "  x = x.reshape((1,) + x.shape)  # this is a Numpy array with shape (1, 3, 150, 150)\n",
        "\n",
        "  # the .flow() command below generates batches of randomly transformed images\n",
        "  # and saves the results to the `preview/` directory\n",
        "  i = 0\n",
        "  for batch in datagen.flow(x, batch_size=1,\n",
        "                            save_to_dir='/content/drive/MyDrive/helmet_detect_repo/aug_face/', save_prefix=img, save_format='png'):\n",
        "    i += 1\n",
        "    if i > 20:\n",
        "      break "
      ],
      "execution_count": null,
      "outputs": []
    },
    {
      "cell_type": "code",
      "metadata": {
        "id": "QiwxNL9w9C-Q"
      },
      "source": [
        "path = '/content/drive/MyDrive/helmet_detect_repo/faces/'\n",
        "\n",
        "#a = os.listdir(path)\n",
        "#print(a)\n",
        "\n",
        "for img in os.listdir(path):\n",
        "  image_aug(path,img)"
      ],
      "execution_count": null,
      "outputs": []
    },
    {
      "cell_type": "code",
      "metadata": {
        "colab": {
          "base_uri": "https://localhost:8080/"
        },
        "id": "g_OF47kRue5L",
        "outputId": "1109a316-98ff-48bc-d8e1-4fe2dbb2e97b"
      },
      "source": [
        "!pwd"
      ],
      "execution_count": null,
      "outputs": [
        {
          "output_type": "stream",
          "text": [
            "/content\n"
          ],
          "name": "stdout"
        }
      ]
    },
    {
      "cell_type": "code",
      "metadata": {
        "id": "FSw8hPt8qUQ7"
      },
      "source": [
        "DATA_XML_DIR = '/content/drive/MyDrive/helmet_detect_repo/annotations'\n",
        "DATA_IMAGES_DIR = '/content/drive/MyDrive/helmet_detect_repo/images'\n",
        "SPLIT_DIR = '/content/drive/MyDrive/helmet_detect_repo/try1'"
      ],
      "execution_count": null,
      "outputs": []
    },
    {
      "cell_type": "code",
      "metadata": {
        "id": "73UiOYa6qrbR"
      },
      "source": [
        "# Split PascalVOC-format datas for training and testing\n",
        "import re\n",
        "from shutil import copyfile\n",
        "import math\n",
        "import random\n",
        "import os\n",
        "\n",
        "\n",
        "def iterate_dir(source_images, source_xml, dest, ratio, copy_xml):\n",
        "    source_images = source_images.replace('\\\\', '/')\n",
        "    source_xml = source_xml.replace('\\\\', '/')\n",
        "    dest = dest.replace('\\\\', '/')\n",
        "    train_dir = os.path.join(dest, 'train')\n",
        "    test_dir = os.path.join(dest, 'test')\n",
        "\n",
        "    if os.listdir(train_dir):\n",
        "        print('train - directory not Empty, Clean it before split!')\n",
        "        return\n",
        "\n",
        "    if os.listdir(test_dir):\n",
        "        print('test - directory not Empty, Clean it before split!')\n",
        "        return\n",
        "    \n",
        "    if not os.path.exists(train_dir):\n",
        "        os.makedirs(train_dir)\n",
        "    if not os.path.exists(test_dir):\n",
        "        os.makedirs(test_dir)\n",
        "\n",
        "    images = [f for f in os.listdir(source_images)\n",
        "              if re.search(r'([a-zA-Z0-9\\s_\\\\.\\-\\(\\):])+(.jpg|.jpeg|.png)$', f)]\n",
        "\n",
        "    num_images = len(images)\n",
        "    num_test_images = math.ceil(ratio*num_images)\n",
        "\n",
        "    for i in range(num_test_images):\n",
        "        idx = random.randint(0, len(images)-1)\n",
        "        filename = images[idx]\n",
        "        copyfile(os.path.join(source_images, filename),\n",
        "                 os.path.join(test_dir, filename))\n",
        "        if copy_xml:\n",
        "            xml_filename = os.path.splitext(filename)[0]+'.xml'\n",
        "            copyfile(os.path.join(source_xml, xml_filename),\n",
        "                     os.path.join(test_dir,xml_filename))\n",
        "        images.remove(images[idx])\n",
        "\n",
        "    for filename in images:\n",
        "        copyfile(os.path.join(source_images, filename),\n",
        "                 os.path.join(train_dir, filename))\n",
        "        if copy_xml:\n",
        "            xml_filename = os.path.splitext(filename)[0]+'.xml'\n",
        "            copyfile(os.path.join(source_xml, xml_filename),\n",
        "                     os.path.join(train_dir, xml_filename))\n",
        "\n",
        "iterate_dir(DATA_IMAGES_DIR, DATA_XML_DIR, SPLIT_DIR, 0.1, True)"
      ],
      "execution_count": null,
      "outputs": []
    }
  ]
}